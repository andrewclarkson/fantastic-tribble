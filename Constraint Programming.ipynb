{
 "cells": [
  {
   "cell_type": "markdown",
   "metadata": {},
   "source": [
    "# Constraint Programming\n",
    "\n",
    "_Or how to cheat at puzzles..._"
   ]
  },
  {
   "cell_type": "markdown",
   "metadata": {},
   "source": [
    "#### From Wikipedia:\n",
    "\n",
    "\n",
    "In computer science, constraint programming is a programming paradigm wherein relations between variables are stated in the form of constraints. Constraints differ from the common primitives of imperative programming languages in that they do not specify a step or sequence of steps to execute, but rather the properties of a solution to be found"
   ]
  },
  {
   "cell_type": "markdown",
   "metadata": {},
   "source": [
    "It all starts with a problem\n",
    "\n",
    "```\n",
    "a ∈ {0,1}\n",
    "b ∈ {0,1}\n",
    "a > b\n",
    "```"
   ]
  },
  {
   "cell_type": "markdown",
   "metadata": {},
   "source": [
    "__Import antigravity...__"
   ]
  },
  {
   "cell_type": "code",
   "execution_count": null,
   "metadata": {},
   "outputs": [],
   "source": [
    "from constraint import *"
   ]
  },
  {
   "cell_type": "code",
   "execution_count": null,
   "metadata": {},
   "outputs": [],
   "source": [
    "problem = Problem()\n",
    "\n",
    "problem.addVariable(\"a\", [0,1])\n",
    "problem.addVariable(\"b\", [0,1])\n",
    "problem.getSolutions()"
   ]
  },
  {
   "cell_type": "markdown",
   "metadata": {},
   "source": [
    "Let's constrain the problem"
   ]
  },
  {
   "cell_type": "code",
   "execution_count": null,
   "metadata": {},
   "outputs": [],
   "source": [
    "problem.addConstraint(lambda a, b: a > b)"
   ]
  },
  {
   "cell_type": "code",
   "execution_count": null,
   "metadata": {},
   "outputs": [],
   "source": [
    "problem.getSolution()"
   ]
  },
  {
   "cell_type": "markdown",
   "metadata": {},
   "source": [
    "## Coins\n",
    "\n",
    "How many ways can you make $5.00"
   ]
  },
  {
   "cell_type": "code",
   "execution_count": null,
   "metadata": {},
   "outputs": [],
   "source": [
    "problem = Problem()\n",
    "total = 5.00\n",
    "variables = (\"0.01\", \"0.05\", \"0.10\", \"0.50\", \"1.00\")\n",
    "values = [float(x) for x in variables]\n",
    "for variable, value in zip(variables, values):\n",
    "    problem.addVariable(variable, range(int(total / value)))\n",
    "problem.addConstraint(ExactSumConstraint(total, values), variables)\n",
    "problem.addConstraint(ExactSumConstraint(100))\n",
    "problem.getSolution()"
   ]
  },
  {
   "cell_type": "code",
   "execution_count": null,
   "metadata": {},
   "outputs": [],
   "source": [
    "len(problem.getSolutions())"
   ]
  },
  {
   "cell_type": "markdown",
   "metadata": {},
   "source": [
    "## Sudoku\n",
    "\n",
    "__More vars, more problems__"
   ]
  },
  {
   "cell_type": "code",
   "execution_count": null,
   "metadata": {},
   "outputs": [],
   "source": [
    "# Some value is given.\n",
    "board = [[0, 9, 0, 7, 0, 0, 8, 6, 0],\n",
    "         [0, 3, 1, 0, 0, 5, 0, 2, 0],\n",
    "         [8, 0, 6, 0, 0, 0, 0, 0, 0],\n",
    "         [0, 0, 7, 0, 5, 0, 0, 0, 6],\n",
    "         [0, 0, 0, 3, 0, 7, 0, 0, 0],\n",
    "         [5, 0, 0, 0, 1, 0, 7, 0, 0],\n",
    "         [0, 0, 0, 0, 0, 0, 1, 0, 9],\n",
    "         [0, 2, 0, 6, 0, 0, 0, 5, 0],\n",
    "         [0, 5, 4, 0, 0, 8, 0, 7, 0]]\n",
    "board"
   ]
  },
  {
   "cell_type": "code",
   "execution_count": null,
   "metadata": {},
   "outputs": [],
   "source": [
    "problem = Problem()\n",
    "\n",
    "# Define the variables: 9 rows of 9 variables rangin in 1...9\n",
    "for i in range(1, 10):\n",
    "    problem.addVariables(range(i * 10 + 1, i * 10 + 10), range(1, 10))\n",
    "\n",
    "# Each row has different values\n",
    "for i in range(1, 10):\n",
    "    problem.addConstraint(AllDifferentConstraint(), range(i * 10 + 1, i * 10 + 10))\n",
    "\n",
    "# Each colum has different values\n",
    "for i in range(1, 10):\n",
    "    problem.addConstraint(AllDifferentConstraint(), range(10 + i, 100 + i, 10))\n",
    "\n",
    "# Each 3x3 box has different values\n",
    "problem.addConstraint(AllDifferentConstraint(), [11, 12, 13, 21, 22, 23, 31, 32, 33])\n",
    "problem.addConstraint(AllDifferentConstraint(), [41, 42, 43, 51, 52, 53, 61, 62, 63])\n",
    "problem.addConstraint(AllDifferentConstraint(), [71, 72, 73, 81, 82, 83, 91, 92, 93])\n",
    "\n",
    "problem.addConstraint(AllDifferentConstraint(), [14, 15, 16, 24, 25, 26, 34, 35, 36])\n",
    "problem.addConstraint(AllDifferentConstraint(), [44, 45, 46, 54, 55, 56, 64, 65, 66])\n",
    "problem.addConstraint(AllDifferentConstraint(), [74, 75, 76, 84, 85, 86, 94, 95, 96])\n",
    "\n",
    "problem.addConstraint(AllDifferentConstraint(), [17, 18, 19, 27, 28, 29, 37, 38, 39])\n",
    "problem.addConstraint(AllDifferentConstraint(), [47, 48, 49, 57, 58, 59, 67, 68, 69])\n",
    "problem.addConstraint(AllDifferentConstraint(), [77, 78, 79, 87, 88, 89, 97, 98, 99])\n",
    "\n",
    "for i in range(1, 10):\n",
    "    for j in range(1, 10):\n",
    "        if initValue[i - 1][j - 1] != 0:\n",
    "            problem.addConstraint(lambda var, val=board[i - 1][j - 1]:\n",
    "                                  var == val, (i * 10 + j,))\n",
    "\n",
    "# Get _a_ solution\n",
    "solution = problem.getSolution()"
   ]
  },
  {
   "cell_type": "code",
   "execution_count": null,
   "metadata": {},
   "outputs": [],
   "source": [
    "[list(solution[(10 * row) + col] for col in range(1,9)) for row in range(1,9)] "
   ]
  },
  {
   "cell_type": "markdown",
   "metadata": {},
   "source": [
    "## KenKen\n",
    "\n",
    "It's like sudoku, but not"
   ]
  },
  {
   "cell_type": "markdown",
   "metadata": {},
   "source": [
    "![kenken](https://upload.wikimedia.org/wikipedia/commons/0/0e/Kenkenproblem.png)"
   ]
  },
  {
   "cell_type": "code",
   "execution_count": null,
   "metadata": {},
   "outputs": [],
   "source": [
    "problem = Problem()\n",
    "\n",
    "problem.addVariable(\"a\", range(1,7))\n",
    "problem.addVariable(\"b\", range(1,7))\n",
    "problem.addConstraint(lambda a, b: a * b == 20 or b * a == 20, (\"a\", \"b\"))\n",
    "problem.getSolutions()"
   ]
  },
  {
   "cell_type": "code",
   "execution_count": null,
   "metadata": {},
   "outputs": [],
   "source": [
    "problem = Problem()\n",
    "\n",
    "problem.addVariable(\"a\", range(1,7))\n",
    "problem.addVariable(\"b\", range(1,7))\n",
    "problem.addVariable(\"c\", range(1,7))\n",
    "problem.addVariable(\"d\", range(1,7))\n",
    "\n",
    "problem.addConstraint(lambda a, b, c, d: a * b * c * d == 240, (\"a\", \"b\", \"c\", \"d\"))\n",
    "problem.getSolutions()"
   ]
  },
  {
   "cell_type": "code",
   "execution_count": 97,
   "metadata": {},
   "outputs": [
    {
     "data": {
      "text/plain": [
       "[[5, 6, 3, 4, 1, 2],\n",
       " [6, 1, 4, 5, 2, 3],\n",
       " [4, 5, 2, 3, 6, 1],\n",
       " [3, 4, 1, 2, 5, 6],\n",
       " [2, 3, 6, 1, 4, 5],\n",
       " [1, 2, 5, 6, 3, 4]]"
      ]
     },
     "execution_count": 97,
     "metadata": {},
     "output_type": "execute_result"
    }
   ],
   "source": [
    "from itertools import permutations\n",
    "\n",
    "kenken_board = \"\"\"\n",
    "11 + 11 21\n",
    "2 / 12 13\n",
    "20 * 14 24\n",
    "6 * 15 16 26 36\n",
    "3 - 22 23\n",
    "3 / 25 35\n",
    "240 x 31 32 41 42\n",
    "6 * 33 34\n",
    "6 * 43 53\n",
    "7 + 44 54 55\n",
    "30 * 45 46\n",
    "6 * 51 52\n",
    "9 + 56 66\n",
    "8 + 61 62 63\n",
    "2 / 64 65\n",
    "\"\"\"\n",
    "\n",
    "def constrain(value, arithmetic):\n",
    "    def evaluate(*t): \n",
    "        if arithmetic == \"+\":\n",
    "            return sum(t) == value\n",
    "        elif arithmetic == \"*\":\n",
    "            result = 1\n",
    "            for x in t:\n",
    "                result *= x\n",
    "            return result == value\n",
    "        elif arithmetic == \"-\":\n",
    "            for p in permutations(t):\n",
    "                result = p[0]\n",
    "                for x in p[1:]:\n",
    "                    result -= x\n",
    "                if abs(result) == value:\n",
    "                    return True\n",
    "            return False\n",
    "        elif arithmetic == \"/\":\n",
    "            for p in permutations(t):\n",
    "                result = p[0]\n",
    "                for x in p[1:]:\n",
    "                    result /= x\n",
    "                if result == value:\n",
    "                    return True\n",
    "            return False\n",
    "        return True\n",
    "    return evaluate\n",
    "            \n",
    "problem = Problem()\n",
    "\n",
    "for line in kenken_board.split('\\n')[1:-1]:\n",
    "    parts = line.split(' ')\n",
    "    for var in parts[2:]:\n",
    "        problem.addVariable(var, range(1,7))\n",
    "    value = int(parts[0])\n",
    "    arithmetic = parts[1]\n",
    "    problem.addConstraint(constrain(value, arithmetic), parts[2:])\n",
    "    \n",
    "for i in range(1,7):\n",
    "    problem.addConstraint(AllDifferentConstraint(), [str(i * 10 + j) for j in range(1,7)])\n",
    "    problem.addConstraint(AllDifferentConstraint(), [str(j * 10 + i) for j in range(1,7)])\n",
    "\n",
    "solution = problem.getSolution()\n",
    "[list(solution[str((10 * row) + col)] for col in range(1,7)) for row in range(1,7)] "
   ]
  },
  {
   "cell_type": "markdown",
   "metadata": {},
   "source": [
    "Spoilers\n",
    "\n",
    "![solution](https://upload.wikimedia.org/wikipedia/commons/1/14/Kenkensolution.png)"
   ]
  },
  {
   "cell_type": "code",
   "execution_count": null,
   "metadata": {},
   "outputs": [],
   "source": []
  },
  {
   "cell_type": "code",
   "execution_count": null,
   "metadata": {},
   "outputs": [],
   "source": []
  }
 ],
 "metadata": {
  "kernelspec": {
   "display_name": "Python 3",
   "language": "python",
   "name": "python3"
  },
  "language_info": {
   "codemirror_mode": {
    "name": "ipython",
    "version": 3
   },
   "file_extension": ".py",
   "mimetype": "text/x-python",
   "name": "python",
   "nbconvert_exporter": "python",
   "pygments_lexer": "ipython3",
   "version": "3.6.4"
  }
 },
 "nbformat": 4,
 "nbformat_minor": 2
}
